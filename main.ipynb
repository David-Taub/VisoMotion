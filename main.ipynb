{
 "cells": [
  {
   "cell_type": "code",
   "execution_count": 4,
   "metadata": {},
   "outputs": [],
   "source": [
    "from PIL import Image\n",
    "from PIL import ImageSequence\n",
    "import imageio\n",
    "import numpy as np\n",
    "from tqdm import tqdm\n",
    "from scipy import ndimage\n",
    "# import gif2numpy\n",
    "import cv2\n",
    "import array2gif\n",
    "import skvideo.io\n",
    "import matplotlib.pyplot as plt\n",
    "import sys\n",
    "import numpy as np\n",
    "# skvideo.setFFmpegPath(r'C:\\Users\\booga\\anaconda3\\Lib\\site-packages\\skvideo\\io')\n",
    "INF = np.iinfo(np.int64).max\n",
    "video_path = r'C:\\projects\\VisoMotion\\data\\vid3.gif'\n",
    "out_path = r'C:\\projects\\VisoMotion\\data\\vid2_out.gif'\n",
    "# image_path = sys.argv[1]\n",
    "PATCH_SIZE = 5"
   ]
  },
  {
   "cell_type": "code",
   "execution_count": 5,
   "metadata": {},
   "outputs": [],
   "source": [
    "def loop_show(vid):\n",
    "    FPS = 60\n",
    "    QUIT_KEY = 'q'\n",
    "    cv2.namedWindow(\"video\", cv2.WINDOW_AUTOSIZE)\n",
    "    while True:\n",
    "        for frame in vid:\n",
    "            cv2.imshow(\"video\", frame)\n",
    "            key = cv2.waitKey(1000 // FPS)\n",
    "            if key == ord(QUIT_KEY):\n",
    "                cv2.destroyAllWindows()\n",
    "                return\n",
    "\n",
    "\n",
    "def load_video(video_path):\n",
    "    # return gif2numpy.convert(video_path, BGR2RGB=False)[0]\n",
    "    # return plt.imread(video_path)\n",
    "    # return ndimage.imread(video_path)\n",
    "    vid_obj = Image.open(video_path)\n",
    "    frames = np.array([np.array(frame.copy().convert('RGB').getdata(), dtype=np.uint8).reshape(\n",
    "        frame.size[1], frame.size[0], 3) for frame in ImageSequence.Iterator(vid_obj)])\n",
    "    return frames\n",
    "\n",
    "\n",
    "def save_video(vid, out_path):\n",
    "    # array2gif.write_gif(vid, out_path)\n",
    "    # imageio.mimwrite(out_path, vid)\n",
    "    ims = [Image.fromarray(frame) for frame in vid]\n",
    "    ims[0].save(out_path, save_all=True, append_images=ims[1:])\n"
   ]
  },
  {
   "cell_type": "code",
   "execution_count": 6,
   "metadata": {},
   "outputs": [],
   "source": [
    "\n",
    "def load_video(video_path):\n",
    "    # return gif2numpy.convert(video_path, BGR2RGB=False)[0]\n",
    "    # return plt.imread(video_path)\n",
    "    # return ndimage.imread(video_path)\n",
    "    vid_obj = Image.open(video_path)\n",
    "    frames = np.array([np.array(frame.copy().convert('RGB').getdata(), dtype=np.uint8).reshape(\n",
    "        frame.size[1], frame.size[0], 3) for frame in ImageSequence.Iterator(vid_obj)])\n",
    "    return frames\n",
    "\n",
    "vid = load_video(video_path)"
   ]
  },
  {
   "cell_type": "code",
   "execution_count": null,
   "metadata": {},
   "outputs": [
    {
     "name": "stderr",
     "output_type": "stream",
     "text": [
      "\r",
      "  0%|                                                                                                        | 0/89 [00:00<?, ?it/s]"
     ]
    },
    {
     "name": "stdout",
     "output_type": "stream",
     "text": [
      "> \u001b[1;32m<ipython-input-7-4b791d17d030>\u001b[0m(11)\u001b[0;36mlucas_kanade_optic_flow\u001b[1;34m()\u001b[0m\n",
      "\u001b[1;32m      9 \u001b[1;33m                \u001b[1;32mimport\u001b[0m \u001b[0mpdb\u001b[0m\u001b[1;33m\u001b[0m\u001b[1;33m\u001b[0m\u001b[0m\n",
      "\u001b[0m\u001b[1;32m     10 \u001b[1;33m                \u001b[0mpdb\u001b[0m\u001b[1;33m.\u001b[0m\u001b[0mset_trace\u001b[0m\u001b[1;33m(\u001b[0m\u001b[1;33m)\u001b[0m\u001b[1;33m\u001b[0m\u001b[1;33m\u001b[0m\u001b[0m\n",
      "\u001b[0m\u001b[1;32m---> 11 \u001b[1;33m                velocity[t, y:y + PATCH_SIZE, x:x + PATCH_SIZE, :] = calc_patch_velocity(\n",
      "\u001b[0m\u001b[1;32m     12 \u001b[1;33m                    \u001b[0mIx\u001b[0m\u001b[1;33m[\u001b[0m\u001b[0mt\u001b[0m\u001b[1;33m,\u001b[0m \u001b[0my\u001b[0m\u001b[1;33m:\u001b[0m\u001b[0my\u001b[0m \u001b[1;33m+\u001b[0m \u001b[0mPATCH_SIZE\u001b[0m\u001b[1;33m,\u001b[0m \u001b[0mx\u001b[0m\u001b[1;33m:\u001b[0m\u001b[0mx\u001b[0m \u001b[1;33m+\u001b[0m \u001b[0mPATCH_SIZE\u001b[0m\u001b[1;33m]\u001b[0m\u001b[1;33m,\u001b[0m\u001b[1;33m\u001b[0m\u001b[1;33m\u001b[0m\u001b[0m\n",
      "\u001b[0m\u001b[1;32m     13 \u001b[1;33m                    \u001b[0mIy\u001b[0m\u001b[1;33m[\u001b[0m\u001b[0mt\u001b[0m\u001b[1;33m,\u001b[0m \u001b[0my\u001b[0m\u001b[1;33m:\u001b[0m\u001b[0my\u001b[0m \u001b[1;33m+\u001b[0m \u001b[0mPATCH_SIZE\u001b[0m\u001b[1;33m,\u001b[0m \u001b[0mx\u001b[0m\u001b[1;33m:\u001b[0m\u001b[0mx\u001b[0m \u001b[1;33m+\u001b[0m \u001b[0mPATCH_SIZE\u001b[0m\u001b[1;33m]\u001b[0m\u001b[1;33m,\u001b[0m\u001b[1;33m\u001b[0m\u001b[1;33m\u001b[0m\u001b[0m\n",
      "\u001b[0m\n"
     ]
    }
   ],
   "source": [
    "def lucas_kanade_optic_flow(vid):\n",
    "    vid_gray = np.array([cv2.cvtColor(frame, cv2.COLOR_BGR2GRAY) for frame in vid])\n",
    "    shape = vid_gray.shape\n",
    "    It, Ix, Iy = np.gradient(vid_gray)\n",
    "    velocity = np.zeros(list(shape) + [2])\n",
    "    for t in tqdm(range(shape[0])):\n",
    "        for y in range(0, shape[1], PATCH_SIZE):\n",
    "            for x in range(0, shape[2], PATCH_SIZE):\n",
    "                velocity[t, y:y + PATCH_SIZE, x:x + PATCH_SIZE, :] = calc_patch_velocity(\n",
    "                    Ix[t, y:y + PATCH_SIZE, x:x + PATCH_SIZE],\n",
    "                    Iy[t, y:y + PATCH_SIZE, x:x + PATCH_SIZE],\n",
    "                    It[t, y:y + PATCH_SIZE, x:x + PATCH_SIZE])\n",
    "    return velocity\n",
    "\n",
    "\n",
    "def draw_arrows(vid, velocity):\n",
    "    shape = vid\n",
    "    for t in range(shape[0]):\n",
    "        for y in range(0, shape[1], PATCH_SIZE):\n",
    "            for x in range(0, shape[2], PATCH_SIZE):\n",
    "                draw_arrow(vid[t, :, :], x + PATCH_SIZE // 2, y + PATCH_SIZE // 2,\n",
    "                           velocity[t, y + PATCH_SIZE // 2, x + PATCH_SIZE // 2])\n",
    "\n",
    "\n",
    "def draw_arrow(img, x, y, vx, vy):\n",
    "    ARROW_COLOR = (0, 0, 255)\n",
    "    ARROW_WIDTH = 5\n",
    "    cv2.arrowedLine(img, (x, y), (x + vx), (y + vy), ARROW_COLOR, ARROW_WIDTH)\n",
    "\n",
    "\n",
    "def calc_patch_velocity(Ix_patch, Iy_patch, It_patch):\n",
    "    A = np.vstack([Ix_patch.flatten(), Iy_patch.flatten()]).T\n",
    "    b = -It_patch.flatten()\n",
    "    return least_square(A, b)\n",
    "\n",
    "\n",
    "def least_square(A, b):\n",
    "    try:\n",
    "        A = np.matrix(A)\n",
    "        b = np.matrix(b).T\n",
    "        return (np.linalg.inv(A.T * A) * (A.T * b)).squeeze()\n",
    "    except np.linalg.LinAlgError:\n",
    "        return np.array([0, 0])\n",
    "\n",
    "velocity = lucas_kanade_optic_flow(vid)"
   ]
  },
  {
   "cell_type": "code",
   "execution_count": null,
   "metadata": {},
   "outputs": [],
   "source": []
  }
 ],
 "metadata": {
  "kernelspec": {
   "display_name": "Python 3",
   "language": "python",
   "name": "python3"
  },
  "language_info": {
   "codemirror_mode": {
    "name": "ipython",
    "version": 3
   },
   "file_extension": ".py",
   "mimetype": "text/x-python",
   "name": "python",
   "nbconvert_exporter": "python",
   "pygments_lexer": "ipython3",
   "version": "3.6.10"
  }
 },
 "nbformat": 4,
 "nbformat_minor": 4
}
